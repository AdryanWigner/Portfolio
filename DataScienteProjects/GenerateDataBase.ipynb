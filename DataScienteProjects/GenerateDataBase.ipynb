{
 "cells": [
  {
   "cell_type": "markdown",
   "id": "d7b3cbd2",
   "metadata": {},
   "source": [
    "🧠 Cenário de Negócio: Loja de Artigos Esportivos\n",
    "Você é um analista de dados contratado por uma rede de lojas de artigos esportivos que está avaliando o desempenho de suas unidades. Seu objetivo é entender quais fatores impactam no volume de vendas para ajudar a diretoria a definir estratégias de crescimento.\n",
    "\n",
    "A empresa forneceu uma base contendo os dados mensais de 30 filiais diferentes, durante 12 meses (360 observações).\n",
    "\n",
    "📊 Base de Dados: vendas_lojas.csv\n",
    "Crie uma base fictícia com as seguintes colunas:\n",
    "\n",
    "Coluna\tTipo\tDescrição\n",
    "loja_id\tint\tID da loja (1 a 30)\n",
    "mes\tobject\tMês da venda (formato \"2024-01\", etc.)\n",
    "vendas\tfloat\tTotal de vendas no mês (em mil R$)\n",
    "clientes\tint\tNúmero de clientes atendidos no mês\n",
    "descontos\tfloat\tPercentual médio de desconto oferecido (%)\n",
    "campanha_marketing\tbool\tSe houve campanha de marketing no mês (0 = não, 1 = sim)\n",
    "regiao\tstring\tRegião da loja (Sul, Sudeste, Centro-Oeste, Nordeste, Norte)\n",
    "preco_medio_produto\tfloat\tPreço médio dos produtos vendidos\n",
    "indice_satisfacao\tfloat\tÍndice médio de satisfação dos clientes (0 a 10)\n"
   ]
  },
  {
   "cell_type": "code",
   "execution_count": null,
   "id": "fbff0cb6",
   "metadata": {},
   "outputs": [],
   "source": [
    "# Libraries for Extract, Treat and Load\n",
    "import numpy as np, pandas as pd\n"
   ]
  },
  {
   "cell_type": "code",
   "execution_count": 3,
   "id": "31561895",
   "metadata": {},
   "outputs": [],
   "source": [
    "# Setando randômicos estáticos\n",
    "np.random.seed(42)\n",
    "\n",
    "# Definindo lojas e periodos das vendas\n",
    "lojas = list(range(1, 31))\n",
    "meses = pd.date_range('01/01/2024', periods=24, freq='MS').strftime('%Y-%m').to_list()\n",
    "\n",
    "# Gerando tabela inicial\n",
    "FactVendas = pd.DataFrame(data=[(loja, mes) for loja in lojas for mes in meses], columns=['IdLoja', 'MesAnoVenda'])"
   ]
  },
  {
   "cell_type": "code",
   "execution_count": 4,
   "id": "c09641d5",
   "metadata": {},
   "outputs": [],
   "source": [
    "# Atribuindo região da venda\n",
    "regioes = ['Centro-Oeste', 'Nordeste', 'Norte', 'Sudeste', 'Sul']\n",
    "\n",
    "# Mapeamento das regioes \n",
    "map_regioes = {loja: np.random.choice(regioes) for loja in lojas}\n",
    "\n",
    "FactVendas['Regiao'] = FactVendas['IdLoja'].map(map_regioes)"
   ]
  },
  {
   "cell_type": "code",
   "execution_count": 5,
   "id": "8a0ce537",
   "metadata": {},
   "outputs": [],
   "source": [
    "# Gerando as variáveis numéricas\n",
    "\n",
    "# 1) Quantidade mensal de clientes\n",
    "FactVendas['Clientes'] = np.random.randint(500, 2000, size=len(FactVendas))\n",
    "\n",
    "# 2) Desconto ofertado\n",
    "FactVendas['DescontoPercent'] = np.round(np.random.uniform(0, 30, size=len(FactVendas)))\n",
    "\n",
    "# 3) Venda sob campanha de marketing? (definido sob probabilidade de 30%)\n",
    "FactVendas['CampanhaMarketing'] = np.random.choice([0, 1], size=len(FactVendas), p=(0.7, 0.3))\n",
    "\n",
    "# 4) Preço médio do produto\n",
    "FactVendas['PrecoMedio'] = np.round(np.random.normal(loc=150, scale=40, size=len(FactVendas)), 2)\n",
    "FactVendas['PrecoMedio'] = FactVendas['PrecoMedio'].clip(50, 300)\n",
    "\n",
    "# 5) Indice de Satisfação\n",
    "FactVendas['IndiceSatisfacao'] = np.round(np.random.uniform(5.5, 9.8, size=len(FactVendas)), 2)"
   ]
  },
  {
   "cell_type": "code",
   "execution_count": 6,
   "id": "15b2818a",
   "metadata": {},
   "outputs": [],
   "source": [
    "# Lógica para construir as vendas em milhares de reais\n",
    "FactVendas['Vendas'] = FactVendas.PrecoMedio * FactVendas.Clientes * (1 - FactVendas.DescontoPercent / 100) * (1 - FactVendas.IndiceSatisfacao / 100)\n",
    "FactVendas['Vendas'] = np.round(FactVendas.Vendas * (1 + 0.1 * FactVendas.CampanhaMarketing) / 1000, 2)\n",
    "\n",
    "# Salvando em Parquet\n",
    "FactVendas.to_parquet('SalesProjectGPT.parquet')"
   ]
  }
 ],
 "metadata": {
  "kernelspec": {
   "display_name": "base",
   "language": "python",
   "name": "python3"
  },
  "language_info": {
   "codemirror_mode": {
    "name": "ipython",
    "version": 3
   },
   "file_extension": ".py",
   "mimetype": "text/x-python",
   "name": "python",
   "nbconvert_exporter": "python",
   "pygments_lexer": "ipython3",
   "version": "3.12.9"
  }
 },
 "nbformat": 4,
 "nbformat_minor": 5
}
